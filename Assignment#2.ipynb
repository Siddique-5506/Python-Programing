{
 "cells": [
  {
   "cell_type": "code",
   "execution_count": 6,
   "metadata": {},
   "outputs": [
    {
     "name": "stdout",
     "output_type": "stream",
     "text": [
      "Enter a number 5\n",
      "5  is Odd number\n"
     ]
    }
   ],
   "source": [
    "n=int(input(\"Enter a number \"))\n",
    "\n",
    "if n%2==0:\n",
    "    print(n ,\" Is Even number\")\n",
    "else:\n",
    "    print(n, \" is Odd number\")\n"
   ]
  },
  {
   "cell_type": "code",
   "execution_count": 25,
   "metadata": {},
   "outputs": [
    {
     "name": "stdout",
     "output_type": "stream",
     "text": [
      "length of list is 5\n"
     ]
    }
   ],
   "source": [
    "list =[1,2,3,4,5]\n",
    "print(\"length of list is\",len(list))"
   ]
  },
  {
   "cell_type": "code",
   "execution_count": 23,
   "metadata": {},
   "outputs": [
    {
     "name": "stdout",
     "output_type": "stream",
     "text": [
      "Sum = 21\n"
     ]
    }
   ],
   "source": [
    "sum=0\n",
    "list=[1,2,3,4,5,6]\n",
    "\n",
    "for x in range(0,len(list)):\n",
    "    sum=sum + list[x]\n",
    "    \n",
    "\n",
    "print(\"Sum =\", sum)"
   ]
  },
  {
   "cell_type": "code",
   "execution_count": 24,
   "metadata": {},
   "outputs": [
    {
     "name": "stdout",
     "output_type": "stream",
     "text": [
      "largest is 87\n"
     ]
    }
   ],
   "source": [
    "list=[33,22,65,34,87,45]\n",
    "print(\"largest is\",max(list))\n",
    "\n"
   ]
  },
  {
   "cell_type": "code",
   "execution_count": 26,
   "metadata": {},
   "outputs": [
    {
     "name": "stdout",
     "output_type": "stream",
     "text": [
      "1\n",
      "1\n",
      "2\n",
      "3\n"
     ]
    }
   ],
   "source": [
    "a=[1,1,2,3,5,8,12,21,34,55,89]\n",
    "\n",
    "for x in range(0,len(a)):\n",
    "    if a[x]<5:\n",
    "        print(a[x])"
   ]
  },
  {
   "cell_type": "code",
   "execution_count": 27,
   "metadata": {},
   "outputs": [
    {
     "name": "stdout",
     "output_type": "stream",
     "text": [
      "*******************Input Data:*****************\n",
      " English :     56\n",
      "***********************************************\n",
      "Urdu :        54\n",
      "***********************************************\n",
      " Physics :     67\n",
      "***********************************************\n",
      "Mathematics : 54\n",
      "***********************************************\n",
      " Computer :    67\n",
      "***********************************************\n",
      "                      OUTPUT                  \n",
      "===============================================\n",
      "Total Marks : 298\n",
      "Percentage : 59.599999999999994\n",
      "Grade : C\n"
     ]
    }
   ],
   "source": [
    "print(\"*******************Input Data:*****************\")\n",
    "\n",
    "eng=int(input( \" English :     \"));\n",
    "print(\"***********************************************\")\n",
    "urdu=int(input( \"Urdu :        \"));\n",
    "print(\"***********************************************\")\n",
    "phy=int(input( \" Physics :     \"));\n",
    "print(\"***********************************************\")\n",
    "math=int(input( \"Mathematics : \"));\n",
    "print(\"***********************************************\")\n",
    "com=int(input( \" Computer :    \"));\n",
    "print(\"***********************************************\")\n",
    "\n",
    "total=eng+urdu+phy+math+com\n",
    "per=(total/500)*100\n",
    "\n",
    "print(\"                      OUTPUT                  \"  )\n",
    "print(\"===============================================\")\n",
    "if per >0 and per <=30:\n",
    " print(\"Total Marks : \"+str(total) +\"\\nPercentage : \"+str(per)+ \"\\nGrade : F\")\n",
    "elif per >30 and per <=40:\n",
    " print(\"Total Marks : \"+str(total)+ \"\\nPercentage : \"+str(per) +\"\\nGrade : E\")\n",
    "elif per >40 and per <=50:\n",
    " print(\"Total Marks : \"+str(total) +\"\\nPercentage : \"+str(per) +\"\\nGrade : D\")\n",
    "elif per >50 and per <=60:\n",
    " print(\"Total Marks : \"+str(total) +\"\\nPercentage : \"+str(per) +\"\\nGrade : C\")\n",
    "elif per >60 and per <=70:\n",
    " print(\"Total Marks : \"+str(total) +\"\\nPercentage : \"+str(per) +\"\\nGrade : B\")\n",
    "elif per >70 and per <=80:\n",
    " print(\"Total Marks : \"+str(total) +\"\\nPercentage : \"+str(per) +\"\\nGrade : A\")\n",
    "elif per >80 and per <=100:\n",
    " print(\"Total Marks : \"+str(total) +\"\\nPercentage : \"+str(per) +\"\\nGrade : A+\")\n",
    "else :\n",
    " print(\"Error Please Check\")\n"
   ]
  },
  {
   "cell_type": "markdown",
   "metadata": {},
   "source": []
  }
 ],
 "metadata": {
  "kernelspec": {
   "display_name": "Python 3",
   "language": "python",
   "name": "python3"
  },
  "language_info": {
   "codemirror_mode": {
    "name": "ipython",
    "version": 3
   },
   "file_extension": ".py",
   "mimetype": "text/x-python",
   "name": "python",
   "nbconvert_exporter": "python",
   "pygments_lexer": "ipython3",
   "version": "3.7.4"
  }
 },
 "nbformat": 4,
 "nbformat_minor": 2
}
