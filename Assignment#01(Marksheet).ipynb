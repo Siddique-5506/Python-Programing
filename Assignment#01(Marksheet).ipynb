{
 "cells": [
  {
   "cell_type": "code",
   "execution_count": 12,
   "metadata": {},
   "outputs": [
    {
     "name": "stdout",
     "output_type": "stream",
     "text": [
      "*******************Input Data:******************\n",
      " English :     45\n",
      "***********************************************\n",
      "Urdu :        45\n",
      "***********************************************\n",
      " Physics :     45\n",
      "***********************************************\n",
      "Mathematics : 45\n",
      "***********************************************\n",
      " Computer :    45\n",
      "***********************************************\n",
      "                      OUTPUT                     \n",
      "=================================================\n",
      "Total Marks : 225\n",
      "Percentage : 45.0\n",
      "Grade : D\n"
     ]
    }
   ],
   "source": [
    "print(\"*******************Input Data:*****************\")\n",
    "\n",
    "eng=int(input( \" English :     \"));\n",
    "print(\"***********************************************\")\n",
    "urdu=int(input( \"Urdu :        \"));\n",
    "print(\"***********************************************\")\n",
    "phy=int(input( \" Physics :     \"));\n",
    "print(\"***********************************************\")\n",
    "math=int(input( \"Mathematics : \"));\n",
    "print(\"***********************************************\")\n",
    "com=int(input( \" Computer :    \"));\n",
    "print(\"***********************************************\")\n",
    "\n",
    "total=eng+urdu+phy+math+com\n",
    "per=(total/500)*100\n",
    "\n",
    "print(\"                      OUTPUT                    )\n",
    "print(\"===============================================\")\n",
    "if per >0 and per <=30:\n",
    " print(\"Total Marks : \"+str(total) +\"\\nPercentage : \"+str(per)+ \"\\nGrade : F\")\n",
    "elif per >30 and per <=40:\n",
    " print(\"Total Marks : \"+str(total)+ \"\\nPercentage : \"+str(per) +\"\\nGrade : E\")\n",
    "elif per >40 and per <=50:\n",
    " print(\"Total Marks : \"+str(total) +\"\\nPercentage : \"+str(per) +\"\\nGrade : D\")\n",
    "elif per >50 and per <=60:\n",
    " print(\"Total Marks : \"+str(total) +\"\\nPercentage : \"+str(per) +\"\\nGrade : C\")\n",
    "elif per >60 and per <=70:\n",
    " print(\"Total Marks : \"+str(total) +\"\\nPercentage : \"+str(per) +\"\\nGrade : B\")\n",
    "elif per >70 and per <=80:\n",
    " print(\"Total Marks : \"+str(total) +\"\\nPercentage : \"+str(per) +\"\\nGrade : A\")\n",
    "elif per >80 and per <=100:\n",
    " print(\"Total Marks : \"+str(total) +\"\\nPercentage : \"+str(per) +\"\\nGrade : A+\")\n",
    "else :\n",
    " print(\"Error Please Check\")\n"
   ]
  },
  {
   "cell_type": "code",
   "execution_count": null,
   "metadata": {},
   "outputs": [],
   "source": []
  },
  {
   "cell_type": "code",
   "execution_count": null,
   "metadata": {},
   "outputs": [],
   "source": []
  }
 ],
 "metadata": {
  "kernelspec": {
   "display_name": "Python 3",
   "language": "python",
   "name": "python3"
  },
  "language_info": {
   "codemirror_mode": {
    "name": "ipython",
    "version": 3
   },
   "file_extension": ".py",
   "mimetype": "text/x-python",
   "name": "python",
   "nbconvert_exporter": "python",
   "pygments_lexer": "ipython3",
   "version": "3.7.4"
  }
 },
 "nbformat": 4,
 "nbformat_minor": 2
}
